{
 "cells": [
  {
   "cell_type": "markdown",
   "metadata": {
    "_cell_guid": "de05512e-6991-44df-9599-da92a7e459ac",
    "_uuid": "d8bdd5f0320e244e4702ed8ec1c2482b022c51cd"
   },
   "source": [
    "# SVM"
   ]
  },
  {
   "cell_type": "code",
   "execution_count": 1,
   "metadata": {},
   "outputs": [],
   "source": [
    "import numpy as np\n",
    "import matplotlib.pyplot as plt\n",
    "import pandas as pd\n",
    "import seaborn as sns\n",
    "import re\n",
    "\n",
    "from sklearn import svm\n",
    "from sklearn.pipeline import make_pipeline\n",
    "from sklearn.preprocessing import StandardScaler\n",
    "from sklearn.svm import SVR, NuSVR, LinearSVR, SVC, NuSVC, LinearSVC\n",
    "from sklearn.datasets import make_classification\n",
    "from sklearn.model_selection import train_test_split, GridSearchCV\n",
    "from sklearn.feature_extraction.text import CountVectorizer\n",
    "from sklearn.metrics import classification_report\n",
    "from sklearn.naive_bayes import MultinomialNB\n",
    "\n",
    "from collections import Counter\n",
    "\n",
    "import itertools as it\n",
    "import nltk as nltk\n",
    "from nltk.corpus import stopwords"
   ]
  },
  {
   "cell_type": "code",
   "execution_count": 34,
   "metadata": {},
   "outputs": [
    {
     "name": "stdout",
     "output_type": "stream",
     "text": [
      "(11141, 3)\n"
     ]
    },
    {
     "data": {
      "image/png": "[encoded data removed]",
      "text/plain": [
       "<Figure size 432x288 with 1 Axes>"
      ]
     },
     "metadata": {},
     "output_type": "display_data"
    }
   ],
   "source": [
    "# r = pd.read_csv('scrap.csv')[['hotel','commentaire','note']]\n",
    "# reviews = pd.concat([reviews,r])\n",
    "# reviews.to_csv('reviews.csv',index=False)\n",
    "\n",
    "reviews = pd.read_csv('reviews.csv')\n",
    "print(r.shape)\n",
    "l=range(10,60,10)\n",
    "plt.pie([reviews.note.value_counts()[i] for i in l],labels=l,autopct='%1.1f%%')\n",
    "plt.show()"
   ]
  },
  {
   "cell_type": "code",
   "execution_count": 3,
   "metadata": {},
   "outputs": [],
   "source": [
    "# Enlever ponctuation et mots de liaison inutiles\n",
    "def sup_ponctuations(commentaires):\n",
    "    ponctuations = '''!()-[]{};:'\"\\,./?@#$%^&@*_~'''\n",
    "    pas_de_ponc = \"\"\n",
    "    for carac in commentaires:\n",
    "        if carac not in ponctuations:\n",
    "            pas_de_ponc = pas_de_ponc + carac\n",
    "    return pas_de_ponc.lower()\n",
    "\n",
    "def mots_inutiles(commentaires):\n",
    "    mots = stopwords.words('french')\n",
    "    comm_nettoyés = \" \"\n",
    "    for mot in commentaires.split():\n",
    "        if mot not in mots:\n",
    "            comm_nettoyés = comm_nettoyés + ' ' + mot\n",
    "    return comm_nettoyés"
   ]
  },
  {
   "cell_type": "code",
   "execution_count": 4,
   "metadata": {},
   "outputs": [],
   "source": [
    "reviews[\"commentaire\"] = reviews[\"commentaire\"].str.lower().apply(mots_inutiles,sup_ponctuations)"
   ]
  },
  {
   "cell_type": "markdown",
   "metadata": {},
   "source": [
    "# Analyse des données"
   ]
  },
  {
   "cell_type": "code",
   "execution_count": 5,
   "metadata": {},
   "outputs": [
    {
     "name": "stdout",
     "output_type": "stream",
     "text": [
      "            0     1\n",
      "0        très  6492\n",
      "1     chambre  3739\n",
      "2           a  3544\n",
      "3        bien  2634\n",
      "4       hôtel  2493\n",
      "5   personnel  2407\n",
      "6       petit  2321\n",
      "7     l'hôtel  1921\n",
      "8         cet  1791\n",
      "9        tout  1714\n",
      "10          !  1621\n",
      "11   déjeuner  1541\n",
      "12   chambres  1494\n",
      "13       plus  1471\n",
      "14        bon  1461\n",
      "15      c'est  1426\n",
      "16       j'ai  1316\n",
      "17        peu  1131\n",
      "18      salle  1121\n",
      "19         si  1053\n"
     ]
    },
    {
     "data": {
      "text/plain": [
       "<BarContainer object of 20 artists>"
      ]
     },
     "execution_count": 5,
     "metadata": {},
     "output_type": "execute_result"
    },
    {
     "data": {
      "image/png": "[encoded data removed]",
      "text/plain": [
       "<Figure size 432x288 with 1 Axes>"
      ]
     },
     "metadata": {
      "needs_background": "light"
     },
     "output_type": "display_data"
    }
   ],
   "source": [
    "# Mots les plus fréquents\n",
    "freq = pd.DataFrame(Counter(' '.join(reviews['commentaire']).split()).most_common(20))\n",
    "print(freq)\n",
    "plt.bar(freq[0],freq[1])"
   ]
  },
  {
   "cell_type": "code",
   "execution_count": 6,
   "metadata": {},
   "outputs": [
    {
     "name": "stdout",
     "output_type": "stream",
     "text": [
      "(6141, 15702)\n"
     ]
    },
    {
     "data": {
      "text/plain": [
       "0     1\n",
       "1     1\n",
       "2     1\n",
       "3     1\n",
       "4     1\n",
       "     ..\n",
       "76    0\n",
       "77    1\n",
       "78    1\n",
       "79    1\n",
       "80    1\n",
       "Name: note, Length: 6141, dtype: int64"
      ]
     },
     "execution_count": 6,
     "metadata": {},
     "output_type": "execute_result"
    }
   ],
   "source": [
    "vec = CountVectorizer(stop_words = 'english')\n",
    "'''\n",
    "convert a collection of text documents to a matrix of token counts, sparse representation\n",
    "default number of features = vocabulary size\n",
    "'''\n",
    "\n",
    "X = vec.fit_transform(reviews.commentaire).toarray()\n",
    "\n",
    "print(X.shape)\n",
    "\n",
    "is_pos = reviews.note.map({50:1,40:1,30:0,20:0,10:0})\n",
    "is_pos"
   ]
  },
  {
   "cell_type": "markdown",
   "metadata": {},
   "source": [
    "# Data splitting"
   ]
  },
  {
   "cell_type": "code",
   "execution_count": 7,
   "metadata": {},
   "outputs": [
    {
     "name": "stdout",
     "output_type": "stream",
     "text": [
      "(4298, 15702) (1843, 15702) (4298,) (1843,)\n"
     ]
    }
   ],
   "source": [
    "y = reviews.note\n",
    "X_train, X_test, Y_train, Y_test = train_test_split(X, y, test_size=0.3,random_state=1,stratify=y)\n",
    "'''\n",
    "test_size pourcentage de lignes testé\n",
    "random_state graine du générateur de nombre aléatoire\n",
    "stratify affecte un label au split stratifié, répartition équitable avec Y\n",
    "'''\n",
    "print(X_train.shape, X_test.shape, Y_train.shape, Y_test.shape)"
   ]
  },
  {
   "cell_type": "markdown",
   "metadata": {
    "_cell_guid": "c833cbf5-74db-44ff-90fa-b600ff0a09d7",
    "_uuid": "39dbc095f99dcec6d25a7a4561e81bb641078622"
   },
   "source": [
    "# Modélisation et Performances"
   ]
  },
  {
   "cell_type": "code",
   "execution_count": null,
   "metadata": {},
   "outputs": [],
   "source": [
    "#\n",
    "param_grid = {'C':[1,2,3],'kernel':['rbf','sigmoid']}\n",
    "param_grid\n",
    "#\n",
    "gscv = GridSearchCV(\n",
    "    SVC(),\n",
    "    param_grid,\n",
    "    cv = 3) #cv par défaut =5\n",
    "gscv.fit(X_train,Y_train)\n",
    "print(gscv.best_params_,'\\n',gscv.best_score_) #changer les params selon le résultat obtenu, ex réduire C\n",
    "\n",
    "#\n",
    "best_model = gscv.best_estimator_\n",
    "pred_train = best_model.predict(X_train)\n",
    "pred_test = best_model.predict(X_test)\n",
    "print(pred_train,pred_test)\n",
    "\n",
    "#\n",
    "print(classification_report(Y_train,pred_train),'\\n',classification_report(Y_test,pred_test))"
   ]
  }
 ],
 "metadata": {
  "kernelspec": {
   "display_name": "Python 3",
   "language": "python",
   "name": "python3"
  },
  "language_info": {
   "codemirror_mode": {
    "name": "ipython",
    "version": 3
   },
   "file_extension": ".py",
   "mimetype": "text/x-python",
   "name": "python",
   "nbconvert_exporter": "python",
   "pygments_lexer": "ipython3",
   "version": "3.7.6"
  }
 },
 "nbformat": 4,
 "nbformat_minor": 4
}

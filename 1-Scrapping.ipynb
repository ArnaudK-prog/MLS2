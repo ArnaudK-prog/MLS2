{
 "cells": [
  {
   "cell_type": "markdown",
   "metadata": {},
   "source": [
    "# Webscrapping - Selenium "
   ]
  },
  {
   "cell_type": "markdown",
   "metadata": {},
   "source": [
    "La doc : https://selenium-python.readthedocs.io/navigating.html<br>\n",
    "cheatsheet : http://allselenium.info/python-selenium-commands-cheat-sheet-frequently-used/<br>\n",
    "moins complète mais plus propre : http://akul.me/blog/2016/selenium-cheatsheet/ <br>"
   ]
  },
  {
   "cell_type": "markdown",
   "metadata": {},
   "source": [
    "# Scraping Selenium\n",
    "\n",
    "Que fait la fonction TIME ? affiche nombre de secondes depuis Jan 1, 1970 00:00:00\n",
    "\n",
    "Que fait la fonction KEYS ? code touches de clavier\n",
    "\n",
    "Comment récupérer des éléments à partir du nom d'une classe ? find_elements_by_class_name()\n",
    "\n",
    "Comment récupérer des éléments à partir de liens ? find_elements_by_link_text()\n",
    "\n",
    "Comment cliquer sur un bouton ? click()\n",
    "\n",
    "Comment revenir à la page précédente ? back\n",
    "\n",
    "Comment saisir du texte ? send_keys()\n",
    "\n",
    "Comment récupérer des éléments à partir d'un tag ? find_elements_by_tag_name()\n",
    "\n",
    "Comment changer de pages dans un navigateur ? get(), switchTo.window(newWindowHandle)"
   ]
  },
  {
   "cell_type": "markdown",
   "metadata": {},
   "source": [
    "## Installation "
   ]
  },
  {
   "cell_type": "markdown",
   "metadata": {},
   "source": [
    "Avec Anaconda : ouvrir anaconda prompt et executer : \"conda install -c conda-forge selenium\" \n",
    "Avec juste python, télécharger geckodrive, le mettre dans le path ou au même endroit que votre jupyter notebook\n",
    "https://github.com/mozilla/geckodriver/releases"
   ]
  },
  {
   "cell_type": "markdown",
   "metadata": {},
   "source": [
    "On commence par importer les modules dont on aura besoin. Le webdriver est l’objet qui gère le navigateur utilisé par Selenium. La classe “Keys” permet d’utiliser les touches du clavier. Et la fonction sleep pour mettre le scripte en “pause” pour les chargement de page"
   ]
  },
  {
   "cell_type": "markdown",
   "metadata": {},
   "source": [
    "On utilise le driver Firefox mais il en existe d’autres celui de Chrome et PhantomJS par exemple."
   ]
  },
  {
   "cell_type": "code",
   "execution_count": 1,
   "metadata": {},
   "outputs": [],
   "source": [
    "import os\n",
    "from selenium import webdriver\n",
    "from selenium.webdriver.common.keys import Keys\n",
    "from selenium.webdriver.common.action_chains import ActionChains\n",
    "from selenium.webdriver.support.ui import Select\n",
    "from selenium.webdriver import ActionChains"
   ]
  },
  {
   "cell_type": "code",
   "execution_count": 2,
   "metadata": {},
   "outputs": [],
   "source": [
    "# On crée une instance du web-driver Firefox et on va sur la page de eBay.fr\n",
    "#driver = webdriver.Chrome()\n",
    "\n",
    "browser = webdriver.Firefox(executable_path=\"C:/Users/utilisateur/OneDrive - SIMPLON.CO/Simplon/geckodriver.exe\")\n",
    "browser.get('https://m.europages.fr/')\n",
    "#browser.maximize_window()"
   ]
  },
  {
   "cell_type": "markdown",
   "metadata": {},
   "source": [
    "### Différentes manières de sélectionner un élement"
   ]
  },
  {
   "cell_type": "code",
   "execution_count": 3,
   "metadata": {},
   "outputs": [
    {
     "data": {
      "text/plain": [
       "<selenium.webdriver.firefox.webelement.FirefoxWebElement (session=\"b0174f24-e395-45c1-a35d-20be5ec63fe3\", element=\"0ec8311c-43b3-4c97-aa7e-6b9b11ed8e2f\")>"
      ]
     },
     "execution_count": 3,
     "metadata": {},
     "output_type": "execute_result"
    }
   ],
   "source": [
    "input_searche_s = browser.find_element_by_class_name('querystring')\n",
    "input_searche_s"
   ]
  },
  {
   "cell_type": "code",
   "execution_count": 4,
   "metadata": {},
   "outputs": [],
   "source": [
    "#browser.find_element_by_xpath('//*[@id=\"querystring\"]').send_keys('expoys')"
   ]
  },
  {
   "cell_type": "code",
   "execution_count": 5,
   "metadata": {},
   "outputs": [],
   "source": [
    "#browser.find_element_by_id('querystring').clear()"
   ]
  },
  {
   "cell_type": "code",
   "execution_count": 4,
   "metadata": {},
   "outputs": [],
   "source": [
    "input_searche_s.send_keys('carbone')"
   ]
  },
  {
   "cell_type": "markdown",
   "metadata": {},
   "source": [
    "### Cliquer sur un élement"
   ]
  },
  {
   "cell_type": "code",
   "execution_count": 5,
   "metadata": {},
   "outputs": [],
   "source": [
    "buttun_s = browser.find_element_by_class_name('arrow-zoom')\n",
    "buttun_s.click()"
   ]
  },
  {
   "cell_type": "code",
   "execution_count": 12,
   "metadata": {},
   "outputs": [],
   "source": [
    "browser.back()"
   ]
  },
  {
   "cell_type": "markdown",
   "metadata": {},
   "source": [
    "### Relancer une nouvelle recherche avec pour mots clés : \"batiment\"."
   ]
  },
  {
   "cell_type": "code",
   "execution_count": 13,
   "metadata": {},
   "outputs": [],
   "source": [
    "input_searche_s = browser.find_element_by_class_name('querystring')\n",
    "input_searche_s.send_keys('batiment')\n",
    "\n",
    "buttun_s = browser.find_element_by_class_name('arrow-zoom')\n",
    "buttun_s.click()"
   ]
  },
  {
   "cell_type": "markdown",
   "metadata": {},
   "source": [
    "### Récupérer le nom de la première entreprise."
   ]
  },
  {
   "cell_type": "code",
   "execution_count": 22,
   "metadata": {},
   "outputs": [
    {
     "data": {
      "text/plain": [
       "'SAREM'"
      ]
     },
     "execution_count": 22,
     "metadata": {},
     "output_type": "execute_result"
    }
   ],
   "source": [
    "pre = browser.find_element_by_xpath(\"//a[@class='company-name display-spinner']\")\n",
    "pre.get_attribute('title')"
   ]
  },
  {
   "cell_type": "markdown",
   "metadata": {},
   "source": [
    "### Cliquer sur le premier élément de la liste des résultats"
   ]
  },
  {
   "cell_type": "code",
   "execution_count": 23,
   "metadata": {},
   "outputs": [],
   "source": [
    "pre.click() # clicks the first one"
   ]
  },
  {
   "cell_type": "markdown",
   "metadata": {},
   "source": [
    "### Récupérer le numéro de TVA de l'entreprise (Il sera nécessaire d'utiliser une expression régulière)"
   ]
  },
  {
   "cell_type": "code",
   "execution_count": 43,
   "metadata": {},
   "outputs": [
    {
     "data": {
      "text/plain": [
       "'FR350703054'"
      ]
     },
     "execution_count": 43,
     "metadata": {},
     "output_type": "execute_result"
    }
   ],
   "source": [
    "tax = browser.find_element_by_xpath(\"//span[@itemprop='vatID']\")\n",
    "tax.text"
   ]
  },
  {
   "cell_type": "markdown",
   "metadata": {},
   "source": [
    "### Récupérer le pays d'exercice de l'entreprise"
   ]
  },
  {
   "cell_type": "code",
   "execution_count": 45,
   "metadata": {},
   "outputs": [
    {
     "data": {
      "text/plain": [
       "'FRANCE'"
      ]
     },
     "execution_count": 45,
     "metadata": {},
     "output_type": "execute_result"
    }
   ],
   "source": [
    "pays = browser.find_element_by_xpath(\"//dd[@itemprop='addressCountry']\")\n",
    "pays.text"
   ]
  },
  {
   "cell_type": "markdown",
   "metadata": {},
   "source": [
    "### Récupérer le descriptif de l'entreprise"
   ]
  },
  {
   "cell_type": "code",
   "execution_count": 49,
   "metadata": {},
   "outputs": [
    {
     "data": {
      "text/plain": [
       "\"L'entreprise SAREM, fondée en 1989, est spécialisée dans la chaudronnerie industrielle et l'outillage aéronautique.\\n\\nNous réalisons ainsi des prestations de chaudronnerie, de mécano-soudure et de mécanique générale tant en fabrication qu'en maintenance des outils de production.\\nNous travaillons dans plusieurs domaines tels que l'art, l'aéronautique, les travaux publics et le secteur maritime.\\n\\nDe la pièce unique à la petite série, nous travaillons tous type de structures métalliques en acier, en inox ou encore en aluminium.\\n\\nGrâce à notre réseau de partenaires fiables, nous sommes capables de gérer des projets intégrant différents corps de métier, à savoir :\\n\\n•Chaudronnerie\\n•Mécanique\\n•Hydraulique\\n•Automatisme\\n•Electricité…\""
      ]
     },
     "execution_count": 49,
     "metadata": {},
     "output_type": "execute_result"
    }
   ],
   "source": [
    "desc = browser.find_element_by_xpath(\"//p[@itemprop='description']\")\n",
    "desc.text"
   ]
  },
  {
   "cell_type": "markdown",
   "metadata": {},
   "source": [
    "### Récupérer le site de l'entreprise"
   ]
  },
  {
   "cell_type": "code",
   "execution_count": 56,
   "metadata": {},
   "outputs": [
    {
     "data": {
      "text/plain": [
       "'http://www.chaudronnerie-sarem-64.fr/'"
      ]
     },
     "execution_count": 56,
     "metadata": {},
     "output_type": "execute_result"
    }
   ],
   "source": [
    "site = browser.find_element_by_xpath(\"//a[@class='button compUrl']\")\n",
    "site.get_attribute('href')"
   ]
  },
  {
   "cell_type": "markdown",
   "metadata": {},
   "source": [
    "### Récupérer l'adressse de l'entreprise"
   ]
  },
  {
   "cell_type": "code",
   "execution_count": 57,
   "metadata": {},
   "outputs": [
    {
     "data": {
      "text/plain": [
       "'10, avenue de l Adour \\n64600 Anglet'"
      ]
     },
     "execution_count": 57,
     "metadata": {},
     "output_type": "execute_result"
    }
   ],
   "source": [
    "adresse = browser.find_element_by_xpath(\"//dd[@itemprop='addressLocality']\")\n",
    "adresse.text"
   ]
  }
 ],
 "metadata": {
  "kernelspec": {
   "display_name": "Python 3",
   "language": "python",
   "name": "python3"
  },
  "language_info": {
   "codemirror_mode": {
    "name": "ipython",
    "version": 3
   },
   "file_extension": ".py",
   "mimetype": "text/x-python",
   "name": "python",
   "nbconvert_exporter": "python",
   "pygments_lexer": "ipython3",
   "version": "3.7.6"
  }
 },
 "nbformat": 4,
 "nbformat_minor": 4
}

{
 "cells": [
  {
   "cell_type": "markdown",
   "metadata": {
    "_cell_guid": "de05512e-6991-44df-9599-da92a7e459ac",
    "_uuid": "d8bdd5f0320e244e4702ed8ec1c2482b022c51cd"
   },
   "source": [
    "# SVM"
   ]
  },
  {
   "cell_type": "code",
   "execution_count": 1,
   "metadata": {},
   "outputs": [],
   "source": [
    "import numpy as np\n",
    "import matplotlib.pyplot as plt\n",
    "import pandas as pd\n",
    "import seaborn as sns\n",
    "import re\n",
    "\n",
    "from sklearn import svm\n",
    "from sklearn.pipeline import make_pipeline\n",
    "from sklearn.preprocessing import StandardScaler\n",
    "from sklearn.svm import SVR, NuSVR, LinearSVR, SVC, NuSVC, LinearSVC\n",
    "from sklearn.datasets import make_classification\n",
    "from sklearn.model_selection import train_test_split, GridSearchCV\n",
    "from sklearn.feature_extraction.text import CountVectorizer\n",
    "from sklearn.metrics import classification_report\n",
    "from sklearn.naive_bayes import MultinomialNB\n",
    "\n",
    "from collections import Counter\n",
    "\n",
    "import itertools as it\n",
    "import nltk as nltk\n",
    "from nltk.corpus import stopwords"
   ]
  },
  {
   "cell_type": "code",
   "execution_count": 16,
   "metadata": {},
   "outputs": [
    {
     "data": {
      "text/html": [
       "<div>\n",
       "<style scoped>\n",
       "    .dataframe tbody tr th:only-of-type {\n",
       "        vertical-align: middle;\n",
       "    }\n",
       "\n",
       "    .dataframe tbody tr th {\n",
       "        vertical-align: top;\n",
       "    }\n",
       "\n",
       "    .dataframe thead th {\n",
       "        text-align: right;\n",
       "    }\n",
       "</style>\n",
       "<table border=\"1\" class=\"dataframe\">\n",
       "  <thead>\n",
       "    <tr style=\"text-align: right;\">\n",
       "      <th></th>\n",
       "      <th>Unnamed: 0</th>\n",
       "      <th>hotel</th>\n",
       "      <th>commentaire</th>\n",
       "      <th>note</th>\n",
       "      <th>commmentaire</th>\n",
       "    </tr>\n",
       "  </thead>\n",
       "  <tbody>\n",
       "    <tr>\n",
       "      <th>0</th>\n",
       "      <td>0</td>\n",
       "      <td>Novotel Paris Les Halles</td>\n",
       "      <td>Après l'annulation de notre voyage aux philipp...</td>\n",
       "      <td>50</td>\n",
       "      <td>Après l'annulation de notre voyage aux philipp...</td>\n",
       "    </tr>\n",
       "    <tr>\n",
       "      <th>1</th>\n",
       "      <td>1</td>\n",
       "      <td>Novotel Paris Les Halles</td>\n",
       "      <td>Ce fut un séjour plus que parfait! L’accueil é...</td>\n",
       "      <td>50</td>\n",
       "      <td>Ce fut un séjour plus que parfait! L’accueil é...</td>\n",
       "    </tr>\n",
       "    <tr>\n",
       "      <th>2</th>\n",
       "      <td>2</td>\n",
       "      <td>Novotel Paris Les Halles</td>\n",
       "      <td>L'accueil à mon arrivée est toujours très chal...</td>\n",
       "      <td>50</td>\n",
       "      <td>L'accueil à mon arrivée est toujours très chal...</td>\n",
       "    </tr>\n",
       "    <tr>\n",
       "      <th>3</th>\n",
       "      <td>3</td>\n",
       "      <td>Novotel Paris Les Halles</td>\n",
       "      <td>Nous avons séjourné dans cet hôtel avec nos 2 ...</td>\n",
       "      <td>50</td>\n",
       "      <td>Nous avons séjourné dans cet hôtel avec nos 2 ...</td>\n",
       "    </tr>\n",
       "    <tr>\n",
       "      <th>4</th>\n",
       "      <td>4</td>\n",
       "      <td>Novotel Paris Les Halles</td>\n",
       "      <td>…</td>\n",
       "      <td>50</td>\n",
       "      <td>…</td>\n",
       "    </tr>\n",
       "  </tbody>\n",
       "</table>\n",
       "</div>"
      ],
      "text/plain": [
       "   Unnamed: 0                     hotel  \\\n",
       "0           0  Novotel Paris Les Halles   \n",
       "1           1  Novotel Paris Les Halles   \n",
       "2           2  Novotel Paris Les Halles   \n",
       "3           3  Novotel Paris Les Halles   \n",
       "4           4  Novotel Paris Les Halles   \n",
       "\n",
       "                                         commentaire  note  \\\n",
       "0  Après l'annulation de notre voyage aux philipp...    50   \n",
       "1  Ce fut un séjour plus que parfait! L’accueil é...    50   \n",
       "2  L'accueil à mon arrivée est toujours très chal...    50   \n",
       "3  Nous avons séjourné dans cet hôtel avec nos 2 ...    50   \n",
       "4                                                  …    50   \n",
       "\n",
       "                                        commmentaire  \n",
       "0  Après l'annulation de notre voyage aux philipp...  \n",
       "1  Ce fut un séjour plus que parfait! L’accueil é...  \n",
       "2  L'accueil à mon arrivée est toujours très chal...  \n",
       "3  Nous avons séjourné dans cet hôtel avec nos 2 ...  \n",
       "4                                                  …  "
      ]
     },
     "execution_count": 16,
     "metadata": {},
     "output_type": "execute_result"
    }
   ],
   "source": [
    "reviews = pd.read_csv('reviews.csv')\n",
    "reviews.head()"
   ]
  },
  {
   "cell_type": "code",
   "execution_count": 59,
   "metadata": {},
   "outputs": [
    {
     "data": {
      "image/png": "[encoded data removed]",
      "text/plain": [
       "<Figure size 432x288 with 1 Axes>"
      ]
     },
     "metadata": {},
     "output_type": "display_data"
    }
   ],
   "source": [
    "plt.pie([reviews.note.value_counts()[i] for i in l],labels=l,autopct='%1.1f%%')\n",
    "plt.show()\n",
    "#si '10'<5% besoin ajout données"
   ]
  },
  {
   "cell_type": "code",
   "execution_count": 61,
   "metadata": {},
   "outputs": [
    {
     "name": "stdout",
     "output_type": "stream",
     "text": [
      "Unnamed: 0      0\n",
      "hotel           0\n",
      "commentaire     0\n",
      "note            0\n",
      "commmentaire    0\n",
      "dtype: int64 \n",
      " Unnamed: 0      0.0\n",
      "hotel           0.0\n",
      "commentaire     0.0\n",
      "note            0.0\n",
      "commmentaire    0.0\n",
      "dtype: float64\n"
     ]
    },
    {
     "data": {
      "image/png": "[encoded data removed]",
      "text/plain": [
       "<Figure size 432x288 with 1 Axes>"
      ]
     },
     "metadata": {
      "needs_background": "light"
     },
     "output_type": "display_data"
    }
   ],
   "source": [
    "# Analyse des valeurs manquantes\n",
    "na = reviews.isnull().sum()\n",
    "nap = na/len(df)\n",
    "print(na,'\\n',nap)\n",
    "sns.heatmap(reviews.isna(),cbar=False)\n",
    "plt.show()"
   ]
  },
  {
   "cell_type": "code",
   "execution_count": 6,
   "metadata": {},
   "outputs": [],
   "source": [
    "# Droper colonnes peu denses : df.drop(df.columns[range(2,5)],axis=1,inplace=True)"
   ]
  },
  {
   "cell_type": "code",
   "execution_count": 62,
   "metadata": {},
   "outputs": [],
   "source": [
    "# Enlever ponctuation et mots de liaison inutiles\n",
    "def sup_ponctuations(commentaires):\n",
    "    ponctuations = '''!()-[]{};:'\"\\,./?@#$%^&@*_~'''\n",
    "    pas_de_ponc = \"\"\n",
    "    for carac in commentaires:\n",
    "        if carac not in ponctuations:\n",
    "            pas_de_ponc = pas_de_ponc + carac\n",
    "    return pas_de_ponc.lower()\n",
    "\n",
    "def mots_inutiles(commentaires):\n",
    "    mots = stopwords.words('french')\n",
    "    comm_nettoyés = \" \"\n",
    "    for mot in commentaires.split():\n",
    "        if mot not in mots:\n",
    "            comm_nettoyés = comm_nettoyés + ' ' + mot\n",
    "    return comm_nettoyés"
   ]
  },
  {
   "cell_type": "code",
   "execution_count": 63,
   "metadata": {},
   "outputs": [
    {
     "data": {
      "text/html": [
       "<div>\n",
       "<style scoped>\n",
       "    .dataframe tbody tr th:only-of-type {\n",
       "        vertical-align: middle;\n",
       "    }\n",
       "\n",
       "    .dataframe tbody tr th {\n",
       "        vertical-align: top;\n",
       "    }\n",
       "\n",
       "    .dataframe thead th {\n",
       "        text-align: right;\n",
       "    }\n",
       "</style>\n",
       "<table border=\"1\" class=\"dataframe\">\n",
       "  <thead>\n",
       "    <tr style=\"text-align: right;\">\n",
       "      <th></th>\n",
       "      <th>Unnamed: 0</th>\n",
       "      <th>hotel</th>\n",
       "      <th>commentaire</th>\n",
       "      <th>note</th>\n",
       "      <th>commmentaire</th>\n",
       "    </tr>\n",
       "  </thead>\n",
       "  <tbody>\n",
       "    <tr>\n",
       "      <th>0</th>\n",
       "      <td>0</td>\n",
       "      <td>Novotel Paris Les Halles</td>\n",
       "      <td>Après l'annulation voyage philippines chance...</td>\n",
       "      <td>50</td>\n",
       "      <td>Après l'annulation de notre voyage aux philipp...</td>\n",
       "    </tr>\n",
       "    <tr>\n",
       "      <th>1</th>\n",
       "      <td>1</td>\n",
       "      <td>Novotel Paris Les Halles</td>\n",
       "      <td>Ce séjour plus parfait! L’accueil minutieux....</td>\n",
       "      <td>50</td>\n",
       "      <td>Ce fut un séjour plus que parfait! L’accueil é...</td>\n",
       "    </tr>\n",
       "    <tr>\n",
       "      <th>2</th>\n",
       "      <td>2</td>\n",
       "      <td>Novotel Paris Les Halles</td>\n",
       "      <td>L'accueil arrivée toujours très chaleureux c...</td>\n",
       "      <td>50</td>\n",
       "      <td>L'accueil à mon arrivée est toujours très chal...</td>\n",
       "    </tr>\n",
       "    <tr>\n",
       "      <th>3</th>\n",
       "      <td>3</td>\n",
       "      <td>Novotel Paris Les Halles</td>\n",
       "      <td>Nous séjourné cet hôtel 2 jeunes enfants. No...</td>\n",
       "      <td>50</td>\n",
       "      <td>Nous avons séjourné dans cet hôtel avec nos 2 ...</td>\n",
       "    </tr>\n",
       "    <tr>\n",
       "      <th>4</th>\n",
       "      <td>4</td>\n",
       "      <td>Novotel Paris Les Halles</td>\n",
       "      <td>…</td>\n",
       "      <td>50</td>\n",
       "      <td>…</td>\n",
       "    </tr>\n",
       "    <tr>\n",
       "      <th>...</th>\n",
       "      <td>...</td>\n",
       "      <td>...</td>\n",
       "      <td>...</td>\n",
       "      <td>...</td>\n",
       "      <td>...</td>\n",
       "    </tr>\n",
       "    <tr>\n",
       "      <th>2029</th>\n",
       "      <td>2029</td>\n",
       "      <td>Novotel Paris Les Halles</td>\n",
       "      <td>…</td>\n",
       "      <td>10</td>\n",
       "      <td>…</td>\n",
       "    </tr>\n",
       "    <tr>\n",
       "      <th>2030</th>\n",
       "      <td>2030</td>\n",
       "      <td>Novotel Paris Les Halles</td>\n",
       "      <td>Nous passé 6 nuits chambre Executive Novotel...</td>\n",
       "      <td>40</td>\n",
       "      <td>Nous avons passé 6 nuits dans une chambre Exec...</td>\n",
       "    </tr>\n",
       "    <tr>\n",
       "      <th>2031</th>\n",
       "      <td>2031</td>\n",
       "      <td>Novotel Paris Les Halles</td>\n",
       "      <td>À l'intérieur c'est Novotel standard. Bon ni...</td>\n",
       "      <td>40</td>\n",
       "      <td>À l'intérieur c'est votre Novotel standard. Bo...</td>\n",
       "    </tr>\n",
       "    <tr>\n",
       "      <th>2032</th>\n",
       "      <td>2032</td>\n",
       "      <td>Novotel Paris Les Halles</td>\n",
       "      <td>Une excellente emplacement - peut aller pied...</td>\n",
       "      <td>40</td>\n",
       "      <td>Une excellente emplacement - on peut aller à p...</td>\n",
       "    </tr>\n",
       "    <tr>\n",
       "      <th>2033</th>\n",
       "      <td>2033</td>\n",
       "      <td>Novotel Paris Les Halles</td>\n",
       "      <td>…</td>\n",
       "      <td>50</td>\n",
       "      <td>…</td>\n",
       "    </tr>\n",
       "  </tbody>\n",
       "</table>\n",
       "<p>2034 rows × 5 columns</p>\n",
       "</div>"
      ],
      "text/plain": [
       "      Unnamed: 0                     hotel  \\\n",
       "0              0  Novotel Paris Les Halles   \n",
       "1              1  Novotel Paris Les Halles   \n",
       "2              2  Novotel Paris Les Halles   \n",
       "3              3  Novotel Paris Les Halles   \n",
       "4              4  Novotel Paris Les Halles   \n",
       "...          ...                       ...   \n",
       "2029        2029  Novotel Paris Les Halles   \n",
       "2030        2030  Novotel Paris Les Halles   \n",
       "2031        2031  Novotel Paris Les Halles   \n",
       "2032        2032  Novotel Paris Les Halles   \n",
       "2033        2033  Novotel Paris Les Halles   \n",
       "\n",
       "                                            commentaire  note  \\\n",
       "0       Après l'annulation voyage philippines chance...    50   \n",
       "1       Ce séjour plus parfait! L’accueil minutieux....    50   \n",
       "2       L'accueil arrivée toujours très chaleureux c...    50   \n",
       "3       Nous séjourné cet hôtel 2 jeunes enfants. No...    50   \n",
       "4                                                     …    50   \n",
       "...                                                 ...   ...   \n",
       "2029                                                  …    10   \n",
       "2030    Nous passé 6 nuits chambre Executive Novotel...    40   \n",
       "2031    À l'intérieur c'est Novotel standard. Bon ni...    40   \n",
       "2032    Une excellente emplacement - peut aller pied...    40   \n",
       "2033                                                  …    50   \n",
       "\n",
       "                                           commmentaire  \n",
       "0     Après l'annulation de notre voyage aux philipp...  \n",
       "1     Ce fut un séjour plus que parfait! L’accueil é...  \n",
       "2     L'accueil à mon arrivée est toujours très chal...  \n",
       "3     Nous avons séjourné dans cet hôtel avec nos 2 ...  \n",
       "4                                                     …  \n",
       "...                                                 ...  \n",
       "2029                                                  …  \n",
       "2030  Nous avons passé 6 nuits dans une chambre Exec...  \n",
       "2031  À l'intérieur c'est votre Novotel standard. Bo...  \n",
       "2032  Une excellente emplacement - on peut aller à p...  \n",
       "2033                                                  …  \n",
       "\n",
       "[2034 rows x 5 columns]"
      ]
     },
     "execution_count": 63,
     "metadata": {},
     "output_type": "execute_result"
    }
   ],
   "source": [
    "reviews[\"commentaire\"] = reviews[\"commentaire\"].apply(mots_inutiles,sup_ponctuations)\n",
    "reviews"
   ]
  },
  {
   "cell_type": "markdown",
   "metadata": {},
   "source": [
    "# Analyse des données"
   ]
  },
  {
   "cell_type": "code",
   "execution_count": 64,
   "metadata": {},
   "outputs": [
    {
     "name": "stdout",
     "output_type": "stream",
     "text": [
      "            0     1\n",
      "0        très  1968\n",
      "1           a   952\n",
      "2          Le   930\n",
      "3     chambre   852\n",
      "4        bien   804\n",
      "5   personnel   708\n",
      "6        Nous   693\n",
      "7       hôtel   616\n",
      "8       petit   597\n",
      "9         Les   571\n",
      "10          !   497\n",
      "11   déjeuner   488\n",
      "12         La   480\n",
      "13   chambres   443\n",
      "14        cet   440\n",
      "15       tout   414\n",
      "16    l'hôtel   410\n",
      "17       plus   386\n",
      "18         Je   349\n",
      "19        bon   348\n"
     ]
    },
    {
     "data": {
      "text/plain": [
       "<BarContainer object of 20 artists>"
      ]
     },
     "execution_count": 64,
     "metadata": {},
     "output_type": "execute_result"
    },
    {
     "data": {
      "image/png": "[encoded data removed]",
      "text/plain": [
       "<Figure size 432x288 with 1 Axes>"
      ]
     },
     "metadata": {
      "needs_background": "light"
     },
     "output_type": "display_data"
    }
   ],
   "source": [
    "# Mots les plus fréquents\n",
    "freq = pd.DataFrame(Counter(' '.join(reviews['commentaire']).split()).most_common(20))\n",
    "print(freq)\n",
    "plt.bar(freq[0],freq[1])"
   ]
  },
  {
   "cell_type": "code",
   "execution_count": 68,
   "metadata": {},
   "outputs": [
    {
     "name": "stdout",
     "output_type": "stream",
     "text": [
      "(2034, 7636)\n"
     ]
    },
    {
     "data": {
      "text/plain": [
       "0       1\n",
       "1       1\n",
       "2       1\n",
       "3       1\n",
       "4       1\n",
       "       ..\n",
       "2029    0\n",
       "2030    1\n",
       "2031    1\n",
       "2032    1\n",
       "2033    1\n",
       "Name: note, Length: 2034, dtype: int64"
      ]
     },
     "execution_count": 68,
     "metadata": {},
     "output_type": "execute_result"
    }
   ],
   "source": [
    "vec = CountVectorizer(stop_words = 'english')\n",
    "'''\n",
    "convert a collection of text documents to a matrix of token counts, sparse representation\n",
    "default number of features = vocabulary size\n",
    "'''\n",
    "\n",
    "X = vec.fit_transform(reviews.commentaire).toarray()\n",
    "\n",
    "print(X.shape)\n",
    "\n",
    "is_pos = reviews.note.map({50:1,40:1,30:0,20:0,10:0})\n",
    "is_pos"
   ]
  },
  {
   "cell_type": "markdown",
   "metadata": {},
   "source": [
    "# Data splitting"
   ]
  },
  {
   "cell_type": "code",
   "execution_count": 69,
   "metadata": {},
   "outputs": [
    {
     "name": "stdout",
     "output_type": "stream",
     "text": [
      "(1423, 7636) (611, 7636) (1423,) (611,)\n"
     ]
    }
   ],
   "source": [
    "y = reviews.note\n",
    "X_train, X_test, Y_train, Y_test = train_test_split(X, y, test_size=0.3,random_state=1,stratify=y)\n",
    "'''\n",
    "test_size pourcentage de lignes testé\n",
    "random_state graine du générateur de nombre aléatoire\n",
    "stratify affecte un label au split stratifié, répartition équitable avec Y\n",
    "'''\n",
    "print(X_train.shape, X_test.shape, Y_train.shape, Y_test.shape)"
   ]
  },
  {
   "cell_type": "markdown",
   "metadata": {
    "_cell_guid": "c833cbf5-74db-44ff-90fa-b600ff0a09d7",
    "_uuid": "39dbc095f99dcec6d25a7a4561e81bb641078622"
   },
   "source": [
    "# Modélisation et Performances"
   ]
  },
  {
   "cell_type": "code",
   "execution_count": null,
   "metadata": {},
   "outputs": [],
   "source": [
    "#\n",
    "param_grid = {'C':[10,50,100],'kernel':['rbf','sigmoid']}\n",
    "param_grid\n",
    "#\n",
    "gscv = GridSearchCV(\n",
    "    SVC(),\n",
    "    param_grid,\n",
    "    cv = 3) #cv par défaut =5\n",
    "gscv.fit(X_train,Y_train)\n",
    "gscv.best_params_ #changer les params selon le résultat obtenu, ex réduire C"
   ]
  },
  {
   "cell_type": "code",
   "execution_count": 15,
   "metadata": {},
   "outputs": [
    {
     "data": {
      "text/plain": [
       "0.9741025641025641"
      ]
     },
     "execution_count": 15,
     "metadata": {},
     "output_type": "execute_result"
    }
   ],
   "source": [
    "gscv.best_score_"
   ]
  },
  {
   "cell_type": "code",
   "execution_count": null,
   "metadata": {},
   "outputs": [],
   "source": [
    "#4\n",
    "best_model = gscv.best_estimator_\n",
    "pred_train = best_model.predict(X_train)\n",
    "pred_test = best_model.predict(X_test)\n",
    "print(pred_train,pred_test)\n",
    "#5\n",
    "print(classification_report(Y_train,pred_train),'\\n',classification_report(Y_test,pred_test))"
   ]
  }
 ],
 "metadata": {
  "kernelspec": {
   "display_name": "Python 3",
   "language": "python",
   "name": "python3"
  },
  "language_info": {
   "codemirror_mode": {
    "name": "ipython",
    "version": 3
   },
   "file_extension": ".py",
   "mimetype": "text/x-python",
   "name": "python",
   "nbconvert_exporter": "python",
   "pygments_lexer": "ipython3",
   "version": "3.7.6"
  }
 },
 "nbformat": 4,
 "nbformat_minor": 4
}
